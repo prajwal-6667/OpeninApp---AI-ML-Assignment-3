{
 "cells": [
  {
   "cell_type": "code",
   "execution_count": 1,
   "id": "b00fee24",
   "metadata": {},
   "outputs": [
    {
     "name": "stdout",
     "output_type": "stream",
     "text": [
      "Requirement already satisfied: googletrans in c:\\users\\panda\\anaconda3\\lib\\site-packages (4.0.0rc1)\n",
      "Requirement already satisfied: httpx==0.13.3 in c:\\users\\panda\\anaconda3\\lib\\site-packages (from googletrans) (0.13.3)\n",
      "Requirement already satisfied: certifi in c:\\users\\panda\\anaconda3\\lib\\site-packages (from httpx==0.13.3->googletrans) (2023.7.22)\n",
      "Requirement already satisfied: hstspreload in c:\\users\\panda\\anaconda3\\lib\\site-packages (from httpx==0.13.3->googletrans) (2023.1.1)\n",
      "Requirement already satisfied: sniffio in c:\\users\\panda\\anaconda3\\lib\\site-packages (from httpx==0.13.3->googletrans) (1.2.0)\n",
      "Requirement already satisfied: chardet==3.* in c:\\users\\panda\\anaconda3\\lib\\site-packages (from httpx==0.13.3->googletrans) (3.0.4)\n",
      "Requirement already satisfied: idna==2.* in c:\\users\\panda\\anaconda3\\lib\\site-packages (from httpx==0.13.3->googletrans) (2.10)\n",
      "Requirement already satisfied: rfc3986<2,>=1.3 in c:\\users\\panda\\anaconda3\\lib\\site-packages (from httpx==0.13.3->googletrans) (1.5.0)\n",
      "Requirement already satisfied: httpcore==0.9.* in c:\\users\\panda\\anaconda3\\lib\\site-packages (from httpx==0.13.3->googletrans) (0.9.1)\n",
      "Requirement already satisfied: h11<0.10,>=0.8 in c:\\users\\panda\\anaconda3\\lib\\site-packages (from httpcore==0.9.*->httpx==0.13.3->googletrans) (0.9.0)\n",
      "Requirement already satisfied: h2==3.* in c:\\users\\panda\\anaconda3\\lib\\site-packages (from httpcore==0.9.*->httpx==0.13.3->googletrans) (3.2.0)\n",
      "Requirement already satisfied: hyperframe<6,>=5.2.0 in c:\\users\\panda\\anaconda3\\lib\\site-packages (from h2==3.*->httpcore==0.9.*->httpx==0.13.3->googletrans) (5.2.0)\n",
      "Requirement already satisfied: hpack<4,>=3.0 in c:\\users\\panda\\anaconda3\\lib\\site-packages (from h2==3.*->httpcore==0.9.*->httpx==0.13.3->googletrans) (3.0.0)\n",
      "Note: you may need to restart the kernel to use updated packages.\n"
     ]
    }
   ],
   "source": [
    "pip install googletrans"
   ]
  },
  {
   "cell_type": "code",
   "execution_count": 2,
   "id": "ade6b914",
   "metadata": {},
   "outputs": [
    {
     "name": "stdout",
     "output_type": "stream",
     "text": [
      "Requirement already satisfied: translate in c:\\users\\panda\\anaconda3\\lib\\site-packages (3.6.1)Note: you may need to restart the kernel to use updated packages.\n",
      "\n",
      "Requirement already satisfied: click in c:\\users\\panda\\anaconda3\\lib\\site-packages (from translate) (8.0.4)\n",
      "Requirement already satisfied: lxml in c:\\users\\panda\\anaconda3\\lib\\site-packages (from translate) (4.9.2)\n",
      "Requirement already satisfied: requests in c:\\users\\panda\\anaconda3\\lib\\site-packages (from translate) (2.31.0)\n",
      "Requirement already satisfied: libretranslatepy==2.1.1 in c:\\users\\panda\\anaconda3\\lib\\site-packages (from translate) (2.1.1)\n",
      "Requirement already satisfied: colorama in c:\\users\\panda\\anaconda3\\lib\\site-packages (from click->translate) (0.4.6)\n",
      "Requirement already satisfied: charset-normalizer<4,>=2 in c:\\users\\panda\\anaconda3\\lib\\site-packages (from requests->translate) (2.0.4)\n",
      "Requirement already satisfied: idna<4,>=2.5 in c:\\users\\panda\\anaconda3\\lib\\site-packages (from requests->translate) (2.10)\n",
      "Requirement already satisfied: urllib3<3,>=1.21.1 in c:\\users\\panda\\anaconda3\\lib\\site-packages (from requests->translate) (1.26.16)\n",
      "Requirement already satisfied: certifi>=2017.4.17 in c:\\users\\panda\\anaconda3\\lib\\site-packages (from requests->translate) (2023.7.22)\n"
     ]
    }
   ],
   "source": [
    "pip install translate"
   ]
  },
  {
   "cell_type": "code",
   "execution_count": 3,
   "id": "4b5d9bfe",
   "metadata": {},
   "outputs": [
    {
     "name": "stdout",
     "output_type": "stream",
     "text": [
      "Requirement already satisfied: googletrans==4.0.0-rc1 in c:\\users\\panda\\anaconda3\\lib\\site-packages (4.0.0rc1)\n",
      "Requirement already satisfied: httpx==0.13.3 in c:\\users\\panda\\anaconda3\\lib\\site-packages (from googletrans==4.0.0-rc1) (0.13.3)\n",
      "Requirement already satisfied: certifi in c:\\users\\panda\\anaconda3\\lib\\site-packages (from httpx==0.13.3->googletrans==4.0.0-rc1) (2023.7.22)\n",
      "Requirement already satisfied: hstspreload in c:\\users\\panda\\anaconda3\\lib\\site-packages (from httpx==0.13.3->googletrans==4.0.0-rc1) (2023.1.1)\n",
      "Requirement already satisfied: sniffio in c:\\users\\panda\\anaconda3\\lib\\site-packages (from httpx==0.13.3->googletrans==4.0.0-rc1) (1.2.0)\n",
      "Requirement already satisfied: chardet==3.* in c:\\users\\panda\\anaconda3\\lib\\site-packages (from httpx==0.13.3->googletrans==4.0.0-rc1) (3.0.4)\n",
      "Requirement already satisfied: idna==2.* in c:\\users\\panda\\anaconda3\\lib\\site-packages (from httpx==0.13.3->googletrans==4.0.0-rc1) (2.10)\n",
      "Requirement already satisfied: rfc3986<2,>=1.3 in c:\\users\\panda\\anaconda3\\lib\\site-packages (from httpx==0.13.3->googletrans==4.0.0-rc1) (1.5.0)\n",
      "Requirement already satisfied: httpcore==0.9.* in c:\\users\\panda\\anaconda3\\lib\\site-packages (from httpx==0.13.3->googletrans==4.0.0-rc1) (0.9.1)\n",
      "Requirement already satisfied: h11<0.10,>=0.8 in c:\\users\\panda\\anaconda3\\lib\\site-packages (from httpcore==0.9.*->httpx==0.13.3->googletrans==4.0.0-rc1) (0.9.0)\n",
      "Requirement already satisfied: h2==3.* in c:\\users\\panda\\anaconda3\\lib\\site-packages (from httpcore==0.9.*->httpx==0.13.3->googletrans==4.0.0-rc1) (3.2.0)\n",
      "Requirement already satisfied: hyperframe<6,>=5.2.0 in c:\\users\\panda\\anaconda3\\lib\\site-packages (from h2==3.*->httpcore==0.9.*->httpx==0.13.3->googletrans==4.0.0-rc1) (5.2.0)\n",
      "Requirement already satisfied: hpack<4,>=3.0 in c:\\users\\panda\\anaconda3\\lib\\site-packages (from h2==3.*->httpcore==0.9.*->httpx==0.13.3->googletrans==4.0.0-rc1) (3.0.0)\n",
      "Note: you may need to restart the kernel to use updated packages.\n"
     ]
    }
   ],
   "source": [
    "pip install googletrans==4.0.0-rc1"
   ]
  },
  {
   "cell_type": "code",
   "execution_count": 4,
   "id": "fbb0d35e",
   "metadata": {},
   "outputs": [
    {
     "name": "stdout",
     "output_type": "stream",
     "text": [
      "Enter the English text: I had about a 30 minute demo just using this new headset\n",
      "Translated Hinglish text: मेरे पास इस नए headset का उपयोग करके लगभग 30 minute का demo था\n"
     ]
    }
   ],
   "source": [
    "from googletrans import Translator\n",
    "\n",
    "# Define a mapping for transliteration from Hindi to Hinglish\n",
    "# For real-time use, consider using a larger dataset\n",
    "transliteration_map = {\n",
    "    '३०': '30',\n",
    "    'डेमो': 'demo',\n",
    "    'हेडसेट': 'headset',\n",
    "    'मिनट': 'minute',\n",
    "    'प्रतिक्रिया': 'feedback',\n",
    "    'टिप्पणी': 'comment',\n",
    "    'साझा': 'share',\n",
    "    'वीडियो': 'video',\n",
    "    'उत्पादों': 'products',\n",
    "    'बैग': 'bag'\n",
    "}\n",
    "\n",
    "def translate_to_hinglish(text):\n",
    "    \"\"\"\n",
    "    Translates English text to Hinglish using Google Translate API.\n",
    "    \n",
    "    :param text: The input English text.\n",
    "    :return: The translated Hinglish text.\n",
    "    \"\"\"\n",
    "    translator = Translator()\n",
    "    translation = translator.translate(text, src='en', dest='hi')\n",
    "    translated_text = translation.text\n",
    "\n",
    "    # Tokenize the translated text and replace Hindi words with Hinglish\n",
    "    tokens = translated_text.split()\n",
    "    hinglish_tokens = [transliteration_map.get(token, token) for token in tokens]\n",
    "\n",
    "    # Reconstruct the Hinglish sentence\n",
    "    translated_text = ' '.join(hinglish_tokens)\n",
    "\n",
    "    return translated_text\n",
    "\n",
    "def main():\n",
    "    # English text to be translated\n",
    "    english_text = input(\"Enter the English text: \")\n",
    "\n",
    "    # Translate to Hinglish\n",
    "    translated_text = translate_to_hinglish(english_text)\n",
    "\n",
    "    print(\"Translated Hinglish text:\", translated_text)\n",
    "\n",
    "if __name__ == \"__main__\":\n",
    "    main()\n"
   ]
  },
  {
   "cell_type": "code",
   "execution_count": 5,
   "id": "9de6a157",
   "metadata": {},
   "outputs": [
    {
     "name": "stdout",
     "output_type": "stream",
     "text": [
      "Enter the English text: Definitely share your feedback in the comment section.\n",
      "Translated Hinglish text: निश्चित रूप से comment अनुभाग में अपनी feedback share करें।\n"
     ]
    }
   ],
   "source": [
    "from googletrans import Translator\n",
    "\n",
    "# Define a mapping for transliteration from Hindi to Hinglish\n",
    "# For real-time use, consider using a larger dataset\n",
    "transliteration_map = {\n",
    "    '३०': '30',\n",
    "    'डेमो': 'demo',\n",
    "    'हेडसेट': 'headset',\n",
    "    'मिनट': 'minute',\n",
    "    'प्रतिक्रिया': 'feedback',\n",
    "    'टिप्पणी': 'comment',\n",
    "    'साझा': 'share',\n",
    "    'वीडियो': 'video',\n",
    "    'उत्पादों': 'products',\n",
    "    'बैग': 'bag'\n",
    "}\n",
    "\n",
    "def translate_to_hinglish(text):\n",
    "    \"\"\"\n",
    "    Translates English text to Hinglish using Google Translate API.\n",
    "    \n",
    "    :param text: The input English text.\n",
    "    :return: The translated Hinglish text.\n",
    "    \"\"\"\n",
    "    translator = Translator()\n",
    "    translation = translator.translate(text, src='en', dest='hi')\n",
    "    translated_text = translation.text\n",
    "\n",
    "    # Tokenize the translated text and replace Hindi words with Hinglish\n",
    "    tokens = translated_text.split()\n",
    "    hinglish_tokens = [transliteration_map.get(token, token) for token in tokens]\n",
    "\n",
    "    # Reconstruct the Hinglish sentence\n",
    "    translated_text = ' '.join(hinglish_tokens)\n",
    "\n",
    "    return translated_text\n",
    "\n",
    "def main():\n",
    "    # English text to be translated\n",
    "    english_text = input(\"Enter the English text: \")\n",
    "\n",
    "    # Translate to Hinglish\n",
    "    translated_text = translate_to_hinglish(english_text)\n",
    "\n",
    "    print(\"Translated Hinglish text:\", translated_text)\n",
    "\n",
    "if __name__ == \"__main__\":\n",
    "    main()\n"
   ]
  },
  {
   "cell_type": "code",
   "execution_count": 6,
   "id": "48638b6c",
   "metadata": {},
   "outputs": [
    {
     "name": "stdout",
     "output_type": "stream",
     "text": [
      "Enter the English text: So even if it's a big video, I will clearly mention all the products.\n",
      "Translated Hinglish text: तो भले ही यह एक बड़ा video है, मैं स्पष्ट रूप से सभी products का उल्लेख करूंगा।\n"
     ]
    }
   ],
   "source": [
    "from googletrans import Translator\n",
    "\n",
    "# Define a mapping for transliteration from Hindi to Hinglish\n",
    "# For real-time use, consider using a larger dataset\n",
    "transliteration_map = {\n",
    "    '३०': '30',\n",
    "    'डेमो': 'demo',\n",
    "    'हेडसेट': 'headset',\n",
    "    'मिनट': 'minute',\n",
    "    'प्रतिक्रिया': 'feedback',\n",
    "    'टिप्पणी': 'comment',\n",
    "    'साझा': 'share',\n",
    "    'वीडियो': 'video',\n",
    "    'उत्पादों': 'products',\n",
    "    'बैग': 'bag'\n",
    "}\n",
    "\n",
    "def translate_to_hinglish(text):\n",
    "    \"\"\"\n",
    "    Translates English text to Hinglish using Google Translate API.\n",
    "    \n",
    "    :param text: The input English text.\n",
    "    :return: The translated Hinglish text.\n",
    "    \"\"\"\n",
    "    translator = Translator()\n",
    "    translation = translator.translate(text, src='en', dest='hi')\n",
    "    translated_text = translation.text\n",
    "\n",
    "    # Tokenize the translated text and replace Hindi words with Hinglish\n",
    "    tokens = translated_text.split()\n",
    "    hinglish_tokens = [transliteration_map.get(token, token) for token in tokens]\n",
    "\n",
    "    # Reconstruct the Hinglish sentence\n",
    "    translated_text = ' '.join(hinglish_tokens)\n",
    "\n",
    "    return translated_text\n",
    "\n",
    "def main():\n",
    "    # English text to be translated\n",
    "    english_text = input(\"Enter the English text: \")\n",
    "\n",
    "    # Translate to Hinglish\n",
    "    translated_text = translate_to_hinglish(english_text)\n",
    "\n",
    "    print(\"Translated Hinglish text:\", translated_text)\n",
    "\n",
    "if __name__ == \"__main__\":\n",
    "    main()\n"
   ]
  },
  {
   "cell_type": "code",
   "execution_count": 7,
   "id": "8fee42c4",
   "metadata": {},
   "outputs": [
    {
     "name": "stdout",
     "output_type": "stream",
     "text": [
      "Enter the English text: I was waiting for my bag.\n",
      "Translated Hinglish text: मैं अपने bag का इंतजार कर रहा था।\n"
     ]
    }
   ],
   "source": [
    "from googletrans import Translator\n",
    "\n",
    "# Define a mapping for transliteration from Hindi to Hinglish\n",
    "# This is a sample dataset; for real-time usage, consider using a larger dataset\n",
    "transliteration_map = {\n",
    "    '३०': '30',\n",
    "    'डेमो': 'demo',\n",
    "    'हेडसेट': 'headset',\n",
    "    'मिनट': 'minute',\n",
    "    'प्रतिक्रिया': 'feedback',\n",
    "    'टिप्पणी': 'comment',\n",
    "    'साझा': 'share',\n",
    "    'वीडियो': 'video',\n",
    "    'उत्पादों': 'products',\n",
    "    'बैग': 'bag'\n",
    "}\n",
    "\n",
    "def translate_to_hinglish(text):\n",
    "    \"\"\"\n",
    "    Translates English text to Hinglish using Google Translate API.\n",
    "    \n",
    "    :param text: The input English text.\n",
    "    :return: The translated Hinglish text.\n",
    "    \"\"\"\n",
    "    translator = Translator()\n",
    "    translation = translator.translate(text, src='en', dest='hi')\n",
    "    translated_text = translation.text\n",
    "\n",
    "    # Tokenize the translated text and replace Hindi words with Hinglish\n",
    "    tokens = translated_text.split()\n",
    "    hinglish_tokens = [transliteration_map.get(token, token) for token in tokens]\n",
    "\n",
    "    # Reconstruct the Hinglish sentence\n",
    "    translated_text = ' '.join(hinglish_tokens)\n",
    "\n",
    "    return translated_text\n",
    "\n",
    "def main():\n",
    "    # English text to be translated\n",
    "    english_text = input(\"Enter the English text: \")\n",
    "\n",
    "    # Translate to Hinglish\n",
    "    translated_text = translate_to_hinglish(english_text)\n",
    "\n",
    "    print(\"Translated Hinglish text:\", translated_text)\n",
    "\n",
    "if __name__ == \"__main__\":\n",
    "    main()\n"
   ]
  },
  {
   "cell_type": "code",
   "execution_count": null,
   "id": "190c1419",
   "metadata": {},
   "outputs": [],
   "source": []
  }
 ],
 "metadata": {
  "kernelspec": {
   "display_name": "Python 3 (ipykernel)",
   "language": "python",
   "name": "python3"
  },
  "language_info": {
   "codemirror_mode": {
    "name": "ipython",
    "version": 3
   },
   "file_extension": ".py",
   "mimetype": "text/x-python",
   "name": "python",
   "nbconvert_exporter": "python",
   "pygments_lexer": "ipython3",
   "version": "3.11.4"
  }
 },
 "nbformat": 4,
 "nbformat_minor": 5
}
